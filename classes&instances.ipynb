{
 "cells": [
  {
   "cell_type": "code",
   "execution_count": 24,
   "metadata": {},
   "outputs": [
    {
     "name": "stdout",
     "output_type": "stream",
     "text": [
      "Hans Kohlemann\n",
      "Hans Kohlemann\n",
      "Name : Hans Kohlemann\n",
      "Email : Hans.Kohlemann@clarusway.com\n",
      "Salary : 50000\n"
     ]
    }
   ],
   "source": [
    "class Employee:\n",
    "\n",
    "    def __init__(self, first, last, pay):\n",
    "        self.first = first\n",
    "        self.last = last\n",
    "        self.email = first + '.' + last + '@clarusway.com'\n",
    "        self.pay = pay\n",
    "\n",
    "    def fullname(self):\n",
    "        return '{} {}'.format(self.first, self.last)\n",
    "    \n",
    "    def info(self):\n",
    "        return 'Name : {} {}\\nEmail : {}\\nSalary : {}'.format(self.first, self.last, self.email, self.pay)\n",
    "\n",
    "emp_1 = Employee('Hans', 'Kohlemann', 50000)\n",
    "emp_2 = Employee('Isabel', 'Heinrich', 60000)\n",
    "\n",
    "print(Employee.fullname(emp_1))\n",
    "print(emp_1.fullname())\n",
    "print(emp_1.info())"
   ]
  },
  {
   "cell_type": "code",
   "execution_count": null,
   "metadata": {},
   "outputs": [],
   "source": []
  }
 ],
 "metadata": {
  "kernelspec": {
   "display_name": "Python 3",
   "language": "python",
   "name": "python3"
  },
  "language_info": {
   "codemirror_mode": {
    "name": "ipython",
    "version": 3
   },
   "file_extension": ".py",
   "mimetype": "text/x-python",
   "name": "python",
   "nbconvert_exporter": "python",
   "pygments_lexer": "ipython3",
   "version": "3.7.7"
  }
 },
 "nbformat": 4,
 "nbformat_minor": 4
}
